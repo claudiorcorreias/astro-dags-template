{
  "cells": [
    {
      "cell_type": "markdown",
      "metadata": {
        "id": "view-in-github",
        "colab_type": "text"
      },
      "source": [
        "<a href=\"https://colab.research.google.com/github/claudiorcorreias/astro-dags-template/blob/main/Exercicios/Aula8_Exercicio.ipynb\" target=\"_parent\"><img src=\"https://colab.research.google.com/assets/colab-badge.svg\" alt=\"Open In Colab\"/></a>"
      ]
    },
    {
      "cell_type": "markdown",
      "metadata": {
        "id": "dyrfGARY5Ho9"
      },
      "source": [
        "# Aula 8 - Exercícios - Datetime e Regex"
      ]
    },
    {
      "cell_type": "markdown",
      "metadata": {
        "id": "isqhNh0K2rW7"
      },
      "source": [
        "### Documentação do Autograder [Link](https://github.com/alexlopespereira/mba_enap/blob/main/Exercicios/Autograder.ipynb)\n",
        "\n",
        "\n",
        "*   Link para o gabarito das questões\n",
        "*   Imports padrão\n",
        "*   Instalação\n",
        "*   Autenticaçao para nota\n",
        "*   Validação\n",
        "\n",
        "\n"
      ]
    },
    {
      "cell_type": "code",
      "execution_count": 1,
      "metadata": {
        "id": "RkNwKAd8kJz5"
      },
      "outputs": [],
      "source": [
        "!pip install --upgrade ipynb_autograde > /dev/null"
      ]
    },
    {
      "cell_type": "code",
      "execution_count": 2,
      "metadata": {
        "id": "WxBHNGxie9BB",
        "colab": {
          "base_uri": "https://localhost:8080/"
        },
        "outputId": "f3eee422-5957-4779-b435-46bcaca32298"
      },
      "outputs": [
        {
          "output_type": "stream",
          "name": "stdout",
          "text": [
            "env: COURSE=mba_enap\n",
            "Go to the following link in your browser, and complete the sign-in prompts:\n",
            "\n",
            "    https://accounts.google.com/o/oauth2/auth?response_type=code&client_id=32555940559.apps.googleusercontent.com&redirect_uri=https%3A%2F%2Fsdk.cloud.google.com%2Fauthcode.html&scope=openid+https%3A%2F%2Fwww.googleapis.com%2Fauth%2Fuserinfo.email+https%3A%2F%2Fwww.googleapis.com%2Fauth%2Fcloud-platform+https%3A%2F%2Fwww.googleapis.com%2Fauth%2Fappengine.admin+https%3A%2F%2Fwww.googleapis.com%2Fauth%2Fsqlservice.login+https%3A%2F%2Fwww.googleapis.com%2Fauth%2Fcompute+https%3A%2F%2Fwww.googleapis.com%2Fauth%2Faccounts.reauth&state=bv4pU5Hh4yPLRaHNxvx44goh3Es4qT&prompt=consent&token_usage=remote&access_type=offline&code_challenge=vRiKSndscMPiU1u2I42I5gr4P2sR09beO63NOs5jg0k&code_challenge_method=S256\n",
            "\n",
            "Once finished, enter the verification code provided in your browser: 4/0ASVgi3LzxXzeoPCMKVO_qKZ6yAZbemz-fIrwhv-KwJsEOVlAN9uZD9YMAzmpa_ZxtKBb8w\n",
            "\n",
            "You are now logged in as [claudiorcorreias@gmail.com].\n",
            "Your current project is [None].  You can change this setting by running:\n",
            "  $ gcloud config set project PROJECT_ID\n"
          ]
        }
      ],
      "source": [
        "%env  COURSE=mba_enap\n",
        "from ipynb_autograde.main import init_log, validate\n",
        "init_log()\n",
        "email_result=!gcloud config get-value account\n",
        "if not email_result or 'unset' in email_result[0]:\n",
        "  !gcloud auth login"
      ]
    },
    {
      "cell_type": "code",
      "execution_count": 3,
      "metadata": {
        "id": "fzizEpSQ5HpD"
      },
      "outputs": [],
      "source": [
        "# Importe a biblioteca pandas\n",
        "import pandas as pd\n",
        "import numpy as np\n",
        "import re\n",
        "import pandas as pd\n",
        "import datetime\n",
        "from datetime import datetime, date"
      ]
    },
    {
      "cell_type": "markdown",
      "metadata": {
        "id": "IHMAEQUa5HpF"
      },
      "source": [
        "### 8.1 Escreva um prompt de uma função python que use a biblioteca de regex para extrair o padrão monstrado nos exemplos a seguir.\n",
        "\n",
        "#### Entrada 1: ```\"abbb asde ababbaaabbbabbb\"```\n",
        "\n",
        "\n",
        "#### Saída 1: ```[\"abbb\", \"abbb\", \"abbb\"]```\n",
        "\n",
        "\n",
        "#### Entrada 2: ```\"ab bb bba aaa\"```\n",
        "\n",
        "\n",
        "#### Saída 2: ```[]```\n",
        "\n",
        "#### Entrada 3: ```\"abb bb bbabbba abaaba\"```\n",
        "\n",
        "\n",
        "#### Saída 3: ```[\"abbb\"]```\n",
        "\n",
        "\n"
      ]
    },
    {
      "cell_type": "code",
      "execution_count": null,
      "metadata": {
        "id": "-hjPLU5CJ9oz"
      },
      "outputs": [],
      "source": [
        "d8_1_1 = \"abbb asde ababbaaabbbabbb\"\n",
        "d8_1_2 = \"ab bb bba aaa\"\n",
        "d8_1_3 = \"abb bb bbabbba abaaba\""
      ]
    },
    {
      "cell_type": "code",
      "execution_count": 4,
      "metadata": {
        "id": "uHOH0TBe5HpG",
        "nbgrader": {
          "grade": false,
          "grade_id": "cell-c705ab9d11473b9f9",
          "locked": false,
          "schema_version": 3,
          "solution": true,
          "task": false
        }
      },
      "outputs": [],
      "source": [
        "prompt81 = \"\"\"Crie uma função em Python que use a biblioteca re para expressões regulares, que receba uma string como entrada e retorne uma lista de todas as ocorrências do padrão \"abbb\".\n",
        "A função deve:\n",
        "Receber uma string como entrada.\n",
        "Utilizar uma expressão regular para encontrar todas as ocorrências do padrão \"abbb\".\n",
        "Retornar uma lista contendo todas as correspondências encontradas.\"\"\""
      ]
    },
    {
      "cell_type": "code",
      "execution_count": 5,
      "metadata": {
        "id": "MKxwvOpc5HpI",
        "colab": {
          "base_uri": "https://localhost:8080/"
        },
        "outputId": "a538e494-94a9-4e45-dea1-751f449c0cbf"
      },
      "outputs": [
        {
          "output_type": "stream",
          "name": "stdout",
          "text": [
            "Codigo gerado: \n",
            "def encontrar_ocorrencias_abbb(s):\n",
            "    padrao = r'abbb'\n",
            "    ocorrencias = re.findall(padrao, s)\n",
            "    return ocorrencias\n",
            "\n",
            "✅ Passed Test Cases:\n",
            "  - Test ID: 1: ['abbb', 'abbb', 'abbb']\n",
            "  - Test ID: 2: []\n",
            "  - Test ID: 3: ['abbb']\n"
          ]
        }
      ],
      "source": [
        "validate(prompt81, \"A8-E1\")"
      ]
    },
    {
      "cell_type": "markdown",
      "metadata": {
        "id": "xw9NCw7u5HpK"
      },
      "source": [
        "### 8.2 Escreva um prompt de uma função python que use a biblioteca de regex para extrair o padrão monstrado nos exemplos a seguir.\n",
        "\n",
        "#### Entrada 1: ```\"33a307a\"```\n",
        "\n",
        "\n",
        "#### Saída 1: ```[]```\n",
        "\n",
        "\n",
        "#### Entrada 2: ```\"33a307\"```\n",
        "\n",
        "\n",
        "#### Saída 2: ```[\"307\"]```\n",
        "\n",
        "\n",
        "\n",
        "\n"
      ]
    },
    {
      "cell_type": "code",
      "execution_count": null,
      "metadata": {
        "id": "pHQ8GDwLJ8_R"
      },
      "outputs": [],
      "source": [
        "d8_2_1 = \"33a307a\"\n",
        "d8_2_2 = \"33a307\""
      ]
    },
    {
      "cell_type": "code",
      "execution_count": 22,
      "metadata": {
        "id": "O0Jvfk50CQW3",
        "nbgrader": {
          "grade": false,
          "grade_id": "cell-c705ab9d11473b9f9",
          "locked": false,
          "schema_version": 3,
          "solution": true,
          "task": false
        }
      },
      "outputs": [],
      "source": [
        "prompt82 = \"\"\"Crie uma função em Python que utilize expressões regulares (módulo re) para identificar e extrair sequências numéricas de uma string, seguindo critérios específicos:\n",
        "\n",
        "A sequência numérica deve estar precedida por um caractere alfabético (letra maiúscula ou minúscula).\n",
        "A sequência numérica deve ser capturada apenas se não houverem outros caracteres alfabéticos (letras) imediatamente após ela.\n",
        "A função deve retornar uma lista contendo as sequências numéricas que atendem aos critérios.\n",
        "Caso a string de entrada não contenha nenhuma sequência numérica que satisfaça os critérios, ou se houverem letras após os números, a função deve retornar uma lista vazia.\"\n",
        "Melhorias no prompt aprimorado:\n",
        "\n",
        "Mais detalhado: O prompt aprimorado fornece mais detalhes sobre o padrão, como a necessidade de um caractere alfabético antes dos números e a ausência de letras após eles.\n",
        "Mais organizado: Ele apresenta os requisitos de forma mais organizada, numerando-os para facilitar a compreensão.\n",
        "Mais preciso: O prompt aprimorado é mais preciso ao descrever o comportamento da função em diferentes cenários, como quando não há correspondências ou quando há letras após os números.\"\"\""
      ]
    },
    {
      "cell_type": "code",
      "execution_count": 23,
      "metadata": {
        "id": "-hCheU1DCQW-",
        "colab": {
          "base_uri": "https://localhost:8080/"
        },
        "outputId": "28fe4492-4af1-4786-ca4d-cec58fbf2754"
      },
      "outputs": [
        {
          "output_type": "stream",
          "name": "stdout",
          "text": [
            "Codigo gerado: \n",
            "def extrair_sequencias_numericas(string):\n",
            "\n",
            "    \n",
            "    # Padrão regex: letra (maiúscula ou minúscula) seguida por um ou mais dígitos\n",
            "    # e não seguida por letra (a palavra pode terminar aqui)\n",
            "    padrao = r'(?<=[a-zA-Z])(\\d+)(?=\\s|$)'\n",
            "    \n",
            "    # Encontrar todas as correspondências que satisfazem o padrão\n",
            "    sequencias = re.findall(padrao, string)\n",
            "    \n",
            "    return sequencias\n",
            "\n",
            "✅ Passed Test Cases:\n",
            "  - Test ID: 1: []\n",
            "  - Test ID: 2: ['307']\n"
          ]
        }
      ],
      "source": [
        "validate(prompt82, \"A8-E2\")"
      ]
    },
    {
      "cell_type": "markdown",
      "metadata": {
        "id": "vVjFdewF5HpN"
      },
      "source": [
        "### 8.3 Escreva um prompt de uma função python para realizar a transformação monstrada no exemplo a seguir.\n",
        "#### **Dica:** O pandas só faz conta de datas dados do tipo datetime. Com o tipo string não é possível fazer operações matematicas de data.\n",
        "\n",
        "#### Entrada 1:  ```\"2021-05-11\"```\n",
        "\n",
        "\n",
        "#### Saída 1: ```[\"2021-05-10\", \"2021-05-12\"]```\n",
        "\n"
      ]
    },
    {
      "cell_type": "code",
      "execution_count": null,
      "metadata": {
        "id": "GKZfD7fTJ8hO"
      },
      "outputs": [],
      "source": [
        "d8_3_1 = \"2021-05-11\""
      ]
    },
    {
      "cell_type": "code",
      "execution_count": 16,
      "metadata": {
        "id": "RKDeWD-fCRXP",
        "nbgrader": {
          "grade": false,
          "grade_id": "cell-c705ab9d11473b9f9",
          "locked": false,
          "schema_version": 3,
          "solution": true,
          "task": false
        }
      },
      "outputs": [],
      "source": [
        "prompt83 = \"\"\"Escreva um prompt de uma função python para realizar a transformação monstrada no exemplo a seguir.\n",
        "Dica: O pandas só faz conta de datas dados do tipo datetime. Com o tipo string não é possível fazer operações matematicas de data.\n",
        "Entrada 1: \"2021-05-11\"\n",
        "Saída 1: [\"2021-05-10\", \"2021-05-12\"]\"\"\""
      ]
    },
    {
      "cell_type": "code",
      "execution_count": 17,
      "metadata": {
        "id": "2xb2vzFeCRXR",
        "colab": {
          "base_uri": "https://localhost:8080/"
        },
        "outputId": "8a393ca1-0fa0-4b17-bb38-950682244e38"
      },
      "outputs": [
        {
          "output_type": "stream",
          "name": "stdout",
          "text": [
            "Codigo gerado: \n",
            "def transformar_data(data_str):\n",
            "    data = pd.to_datetime(data_str)\n",
            "    data_anterior = data - pd.Timedelta(days=1)\n",
            "    data_posterior = data + pd.Timedelta(days=1)\n",
            "    return [data_anterior.strftime('%Y-%m-%d'), data_posterior.strftime('%Y-%m-%d')]\n",
            "\n",
            "✅ Passed the Test Case!\n",
            "  Expected: ['2021-05-10', '2021-05-12']\n",
            "  Delivered: ['2021-05-10', '2021-05-12']\n"
          ]
        }
      ],
      "source": [
        "validate(prompt83, \"A8-E3\")"
      ]
    },
    {
      "cell_type": "markdown",
      "metadata": {
        "id": "cO1eUMZh5HpR"
      },
      "source": [
        "### 8.4 Escreva um prompt de uma função python para realizar a transformação monstrada no exemplo a seguir.\n",
        "#### **Dica:** O pandas só faz conta de datas dados do tipo datetime. Com o tipo string não é possível fazer operações matematicas de data.\n",
        "\n",
        "#### Entrada: ```{\"data\": [\"2011-09-02\", \"2012-08-04\", \"2013-09-03\"], \"0\": [-0.96, -0.05, -0.42]}```\n",
        "\n",
        "\n",
        "#### Saída:\n",
        "\n",
        "\n",
        "|    | data      |     0 |   mes |\n",
        "|---:|:-----------|------:|------:|\n",
        "|  0 | 2011-09-02 | -0.96 |     9 |\n",
        "|  1 | 2012-08-04 | -0.05 |     8 |\n",
        "|  2 | 2013-09-03 | -0.42 |     9 |\n"
      ]
    },
    {
      "cell_type": "code",
      "execution_count": null,
      "metadata": {
        "id": "Jm92RDL5J7we"
      },
      "outputs": [],
      "source": [
        "d8_4_1 = {\"data\": [\"2011-09-02\", \"2012-08-04\", \"2013-09-03\"], \"0\": [-0.96, -0.05, -0.42]}"
      ]
    },
    {
      "cell_type": "code",
      "execution_count": 29,
      "metadata": {
        "id": "XukvxTEECSVo",
        "nbgrader": {
          "grade": false,
          "grade_id": "cell-c705ab9d11473b9f9",
          "locked": false,
          "schema_version": 3,
          "solution": true,
          "task": false
        }
      },
      "outputs": [],
      "source": [
        "prompt84 = \"\"\"Objetivo\n",
        "Escrever uma função Python que receba um dicionário contendo dados de data e valores numéricos, e realize uma transformação específica nesses dados, conforme o exemplo fornecido. A função deve utilizar a biblioteca Pandas para manipular os dados e realizar a transformação.  A coluna 'data' deve permanecer no formato de string \"AAAA-MM-DD\".\n",
        "\n",
        "Entrada\n",
        "Um dicionário com duas chaves:\n",
        "\n",
        "\"data\": Uma lista de strings representando datas no formato \"AAAA-MM-DD\".\n",
        "\"0\": Uma lista de valores numéricos (floats).\n",
        "Saída\n",
        "Um DataFrame Pandas com as seguintes colunas:\n",
        "\n",
        "data: A data original no formato \"AAAA-MM-DD\" (tipo string).\n",
        "0: O valor numérico correspondente.\n",
        "mes: O mês da data (1 para Janeiro, 2 para Fevereiro, etc.).\"\"\""
      ]
    },
    {
      "cell_type": "code",
      "execution_count": 30,
      "metadata": {
        "id": "sfnmg1u2CSVr",
        "colab": {
          "base_uri": "https://localhost:8080/"
        },
        "outputId": "ef9c5745-222e-4f3e-c8af-3107a5bfe461"
      },
      "outputs": [
        {
          "output_type": "stream",
          "name": "stdout",
          "text": [
            "Codigo gerado: \n",
            "def transformar_dados(dados):\n",
            "\n",
            "\n",
            "    # Criação do DataFrame a partir do dicionário\n",
            "    df = pd.DataFrame(dados)\n",
            "\n",
            "    # Conversão da coluna 'data' para o tipo string se necessário\n",
            "    df['data'] = df['data'].astype(str)\n",
            "\n",
            "    # Extração do mês da data\n",
            "    df['mes'] = pd.to_datetime(df['data']).dt.month\n",
            "\n",
            "    # Retorno do DataFrame resultante\n",
            "    return df\n",
            "\n",
            "✅ Passed the Test Case!\n",
            "  Expected: {'data': {'aggregation_checks': {'sum': {'0': -1.5, 'mes': 26.0}, 'total_rows': {'max': 3, 'min': 3}}, 'columns': ['data', '0', 'mes'], 'dtypes': {'0': 'float64', 'data': 'object', 'mes': 'int32'}, 'sample_rows': [{'expected_values': {'mes': 9}, 'filter': {'0': -0.96}}]}, 'type': 'dataframe', 'validation_rules': {'round_decimals': 1, 'row_match_threshold': 0.01, 'tolerance': 3}}\n",
            "  Delivered: {'aggregation_summary': {'sums': {'0': -1.5, 'mes': 26.0}, 'total_rows': {'max': 3, 'min': 3}}, 'column_analysis': {'expected_columns': ['data', '0', 'mes'], 'missing_columns': [], 'possible_matches': {}, 'provided_columns': ['data', '0', 'mes'], 'unexpected_columns': []}, 'verified_samples': [{'expected_values': {'mes': 9}, 'filter': {'0': -0.96}}]}\n"
          ]
        }
      ],
      "source": [
        "validate(prompt84, \"A8-E4\")"
      ]
    },
    {
      "cell_type": "markdown",
      "metadata": {
        "id": "nzEJf3jHAl1w"
      },
      "source": [
        "### 8.5 Escreva um prompt de uma função python utilizando a biblioteca de regex para extrair o padrão monstrado nos exemplos a seguir.\n",
        "\n",
        "#### Entrada: ```[\"(16) 91231-6165\", \"(16) 3231-6165\", \"16 91231-6165\", \"16 3231-6164\", \"3231-6165\", \"91231-616\"]```\n",
        "\n",
        "\n",
        "#### Saída: ```[\"(16) 91231-6165\", \"(16) 3231-6165\", \"16 91231-6165\", \"16 3231-6164\"]```\n"
      ]
    },
    {
      "cell_type": "code",
      "execution_count": null,
      "metadata": {
        "id": "Sq-1l0nZJ7Mo"
      },
      "outputs": [],
      "source": [
        "d8_5_1 = [\"(16) 91231-6165\", \"(16) 3231-6165\", \"16 91231-6165\", \"16 3231-6164\", \"3231-6165\", \"91231-616\"]"
      ]
    },
    {
      "cell_type": "code",
      "execution_count": 18,
      "metadata": {
        "id": "lmcuYdJ8CTJc",
        "nbgrader": {
          "grade": false,
          "grade_id": "cell-c705ab9d11473b9f9",
          "locked": false,
          "schema_version": 3,
          "solution": true,
          "task": false
        }
      },
      "outputs": [],
      "source": [
        "prompt85 = \"\"\"Crie uma função em Python que use a biblioteca re para expressões regulares, que receba uma lista de strings como entrada e retorne uma lista contendo todas as correspondências de números de telefone válidos.\n",
        "\n",
        "Os números de telefone válidos devem seguir um dos seguintes padrões:\n",
        "\n",
        "\"(XX) XXXXX-XXXX\"\n",
        "\n",
        "\"(XX) XXXX-XXXX\"\n",
        "\n",
        "\"XX XXXXX-XXXX\"\n",
        "\n",
        "\"XX XXXX-XXXX\"\n",
        "\n",
        "A função deve:\n",
        "\n",
        "Receber uma lista de strings como entrada.\n",
        "\n",
        "Utilizar uma expressão regular para encontrar todas as correspondências de números de telefone válidos.\n",
        "\n",
        "Retornar uma lista contendo todas as correspondências encontradas.\"\"\""
      ]
    },
    {
      "cell_type": "code",
      "execution_count": 19,
      "metadata": {
        "id": "G8ekZAXSCTJc",
        "colab": {
          "base_uri": "https://localhost:8080/"
        },
        "outputId": "20ed6272-d849-46be-921b-b9600280b41f"
      },
      "outputs": [
        {
          "output_type": "stream",
          "name": "stdout",
          "text": [
            "Codigo gerado: \n",
            "def encontrar_telefones(lista_strings):\n",
            "    padrao = r'(\\(\\d{2}\\) \\d{5}-\\d{4}|\\(\\d{2}\\) \\d{4}-\\d{4}|\\d{2} \\d{5}-\\d{4}|\\d{2} \\d{4}-\\d{4})'\n",
            "    resultado = []\n",
            "    \n",
            "    for string in lista_strings:\n",
            "        correspondencias = re.findall(padrao, string)\n",
            "        resultado.extend(correspondencias)\n",
            "    \n",
            "    return resultado\n",
            "\n",
            "✅ Passed the Test Case!\n",
            "  Expected: ['(16) 91231-6165', '(16) 3231-6165', '16 91231-6165', '16 3231-6164']\n",
            "  Delivered: ['(16) 91231-6165', '(16) 3231-6165', '16 91231-6165', '16 3231-6164']\n"
          ]
        }
      ],
      "source": [
        "validate(prompt85, \"A8-E5\")"
      ]
    },
    {
      "cell_type": "markdown",
      "metadata": {
        "id": "0vsm5KZhAwHD"
      },
      "source": [
        "### 8.6 Escreva um prompt de uma função python para realizar a transformação monstrada no exemplo a seguir.\n",
        "#### **Dica:** Ultimo dia útil do **mês**. O pandas só faz conta de datas dados do tipo datetime. Com o tipo string não é possível fazer operações matematicas de data.\n",
        "#### Entrada: ```2024```\n",
        "\n",
        "\n",
        "#### Saída: Um dataframe igual a esse\n",
        "\n",
        "|    | Col1                | Col2      |\n",
        "|---:|:--------------------|:----------|\n",
        "|  0 | 2024-01-31 00:00:00 | Wednesday |\n",
        "|  1 | 2024-02-29 00:00:00 | Thursday  |\n",
        "|  2 | 2024-03-29 00:00:00 | Friday    |\n",
        "|  3 | 2024-04-30 00:00:00 | Tuesday   |\n",
        "|  4 | 2024-05-31 00:00:00 | Friday    |\n",
        "|  5 | 2024-06-28 00:00:00 | Friday    |\n",
        "|  6 | 2024-07-31 00:00:00 | Wednesday |\n",
        "|  7 | 2024-08-30 00:00:00 | Friday    |\n",
        "|  8 | 2024-09-30 00:00:00 | Monday    |\n",
        "|  9 | 2024-10-31 00:00:00 | Thursday  |\n",
        "| 10 | 2024-11-29 00:00:00 | Friday    |\n",
        "| 11 | 2024-12-31 00:00:00 | Tuesday   |\n"
      ]
    },
    {
      "cell_type": "code",
      "execution_count": 33,
      "metadata": {
        "nbgrader": {
          "grade": false,
          "grade_id": "cell-c705ab9d11473b9f9",
          "locked": false,
          "schema_version": 3,
          "solution": true,
          "task": false
        },
        "id": "nIwk6_SnP60Z"
      },
      "outputs": [],
      "source": [
        "prompt86 = \"\"\"Objetivo\n",
        "Escrever uma função Python que receba um ano como entrada e gere um DataFrame Pandas contendo os últimos dias úteis de cada mês desse ano, juntamente com o número do mês e o dia da semana correspondente. A função deve explicitamente importar a biblioteca Pandas.\n",
        "\n",
        "Entrada\n",
        "Um inteiro representando o ano.\n",
        "\n",
        "Saída\n",
        "Um DataFrame Pandas com as seguintes colunas:\n",
        "\n",
        "Col1: A data do último dia útil do mês no formato \"AAAA-MM-DD\" (tipo datetime64[ns]).\n",
        "Col2: O dia da semana correspondente à data (ex: \"Monday\", \"Tuesday\", etc.) (tipo object/string).\"\"\""
      ]
    },
    {
      "cell_type": "code",
      "execution_count": 34,
      "metadata": {
        "id": "bzLWdmZNCT90",
        "colab": {
          "base_uri": "https://localhost:8080/"
        },
        "outputId": "9cb65bfb-9d71-47c9-df6d-9d4f160d4ba9"
      },
      "outputs": [
        {
          "output_type": "stream",
          "name": "stdout",
          "text": [
            "Codigo gerado: \n",
            "def ultimo_dia_util_por_mes(ano):\n",
            "    meses = range(1, 13)\n",
            "    ultimos_dias = []\n",
            "    \n",
            "    for mes in meses:\n",
            "        # Encontrar o último dia do mês\n",
            "        if mes == 2:\n",
            "            ultimo_dia = pd.Timestamp(f'{ano}-{mes}-01') + pd.offsets.MonthEnd(1)\n",
            "        else:\n",
            "            ultimo_dia = pd.Timestamp(f'{ano}-{mes}-01') + pd.offsets.MonthEnd(1)\n",
            "        \n",
            "        # Verificar se o último dia é um dia útil (segunda a sexta)\n",
            "        while ultimo_dia.weekday() > 4:\n",
            "            ultimo_dia -= pd.Timedelta(days=1)\n",
            "        \n",
            "        ultimos_dias.append({\n",
            "            'Col1': ultimo_dia,\n",
            "            'Col2': ultimo_dia.day_name()\n",
            "        })\n",
            "    \n",
            "    return pd.DataFrame(ultimos_dias)\n",
            "\n",
            "✅ Passed the Test Case!\n",
            "  Expected: {'data': {'aggregation_checks': {'sum': {}, 'total_rows': {'max': 12, 'min': 12}}, 'columns': ['Col1', 'Col2'], 'dtypes': {'Col1': 'datetime64[ns]', 'Col2': 'object'}, 'sample_rows': [{'expected_values': {'Col2': 'Wednesday'}, 'filter': {'Col1': '2024-01-31'}}, {'expected_values': {'Col2': 'Tuesday'}, 'filter': {'Col1': '2024-12-31'}}]}, 'type': 'dataframe', 'validation_rules': {'round_decimals': 1, 'row_match_threshold': 0.01, 'tolerance': 3}}\n",
            "  Delivered: {'aggregation_summary': {'sums': {}, 'total_rows': {'max': 12, 'min': 12}}, 'column_analysis': {'expected_columns': ['Col1', 'Col2'], 'missing_columns': [], 'possible_matches': {}, 'provided_columns': ['Col1', 'Col2'], 'unexpected_columns': []}, 'verified_samples': [{'expected_values': {'Col2': 'Wednesday'}, 'filter': {'Col1': '2024-01-31'}}, {'expected_values': {'Col2': 'Tuesday'}, 'filter': {'Col1': '2024-12-31'}}]}\n"
          ]
        }
      ],
      "source": [
        "validate(prompt86, \"A8-E6\")"
      ]
    },
    {
      "cell_type": "markdown",
      "metadata": {
        "id": "AFrMfPFDAwRv"
      },
      "source": [
        "### 8.7 Escreva um prompt de uma função python para realizar a transformação monstrada no exemplo a seguir.\n",
        "#### **Dica:** O pandas só faz conta de datas dados do tipo datetime. Com o tipo string não é possível fazer operações matematicas de data.\n",
        "#### Entrada:\n",
        "```\n",
        "{\n",
        "    'Start Date': ['2021-05-01', '2021-06-15', '2021-07-20'],\n",
        "    'End Date': ['2021-05-10', '2021-06-25', '2021-08-01']\n",
        "}\n",
        "```\n",
        "\n",
        "#### Saída:\n",
        "\n",
        "|    | Start Date          | End Date            |   Difference |\n",
        "|---:|:--------------------|:--------------------|-------------:|\n",
        "|  0 | 2021-07-20 00:00:00 | 2021-08-01 00:00:00 |           12 |\n"
      ]
    },
    {
      "cell_type": "code",
      "execution_count": null,
      "metadata": {
        "id": "DNVMsFBmJ5vd"
      },
      "outputs": [],
      "source": [
        "d8_7_1 = {\n",
        "    'Start Date': ['2021-05-01', '2021-06-15', '2021-07-20'],\n",
        "    'End Date': ['2021-05-10', '2021-06-25', '2021-08-01']\n",
        "}"
      ]
    },
    {
      "cell_type": "code",
      "execution_count": 44,
      "metadata": {
        "id": "DXVdoZdlCUb3",
        "nbgrader": {
          "grade": false,
          "grade_id": "cell-c705ab9d11473b9f9",
          "locked": false,
          "schema_version": 3,
          "solution": true,
          "task": false
        }
      },
      "outputs": [],
      "source": [
        "prompt87 = \"\"\"Crie uma função Python chamada calcular_diferenca_datas que receba um dicionário contendo duas chaves: \"Start Date\" e \"End Date\" (listas de strings no formato YYYY-MM-DD). A função deve retornar um DataFrame do pandas com três colunas: \"Start Date\", \"End Date\" e \"Difference\". A coluna \"Difference\" deve conter a diferença em dias entre as datas de \"Start Date\" e \"End Date\" para cada linha. A função deve filtrar o DataFrame para incluir apenas as linhas onde a diferença é maior que 10 dias.Requisitos:\n",
        "Use a biblioteca pandas para manipulação de dados.\n",
        "\n",
        "Converta as colunas \"Start Date\" e \"End Date\" para o tipo datetime do pandas.\n",
        "\n",
        "Calcule a diferença em dias entre as datas de \"Start Date\" e \"End Date\".\n",
        "\n",
        "Filtre o DataFrame para incluir apenas as linhas onde a diferença é maior que 10 dias.\n",
        "\n",
        "A função deve retornar um DataFrame com as colunas \"Start Date\", \"End Date\" e \"Difference\".\"\"\""
      ]
    },
    {
      "cell_type": "code",
      "execution_count": 45,
      "metadata": {
        "id": "luQuTo5-CUb5",
        "colab": {
          "base_uri": "https://localhost:8080/"
        },
        "outputId": "4ed2cdc3-7bc2-45fe-9f25-2c0c22c45769"
      },
      "outputs": [
        {
          "output_type": "stream",
          "name": "stdout",
          "text": [
            "Codigo gerado: \n",
            "def calcular_diferenca_datas(dados):\n",
            "    df = pd.DataFrame(dados)\n",
            "    df['Start Date'] = pd.to_datetime(df['Start Date'])\n",
            "    df['End Date'] = pd.to_datetime(df['End Date'])\n",
            "    df['Difference'] = (df['End Date'] - df['Start Date']).dt.days\n",
            "    df_filtrado = df[df['Difference'] > 10]\n",
            "    return df_filtrado[['Start Date', 'End Date', 'Difference']]\n",
            "\n",
            "✅ Passed the Test Case!\n",
            "  Expected: {'data': {'aggregation_checks': {'sum': {'Difference': 12.0}, 'total_rows': {'max': 1, 'min': 1}}, 'columns': ['Start Date', 'End Date', 'Difference'], 'dtypes': {'Difference': 'int64', 'End Date': 'datetime64[ns]', 'Start Date': 'datetime64[ns]'}, 'sample_rows': [{'expected_values': {'Difference': 12}, 'filter': {'Difference': 12}}]}, 'type': 'dataframe', 'validation_rules': {'round_decimals': 1, 'row_match_threshold': 0.01, 'tolerance': 3}}\n",
            "  Delivered: {'aggregation_summary': {'sums': {'Difference': 12.0}, 'total_rows': {'max': 1, 'min': 1}}, 'column_analysis': {'expected_columns': ['Start Date', 'End Date', 'Difference'], 'missing_columns': [], 'possible_matches': {}, 'provided_columns': ['Start Date', 'End Date', 'Difference'], 'unexpected_columns': []}, 'verified_samples': [{'expected_values': {'Difference': 12}, 'filter': {'Difference': 12}}]}\n"
          ]
        }
      ],
      "source": [
        "validate(prompt87, \"A8-E7\")"
      ]
    },
    {
      "cell_type": "markdown",
      "metadata": {
        "id": "rSBuKF2fAwrP"
      },
      "source": [
        "### 8.8 Escreva um prompt de uma função python para realizar a transformação monstrada no exemplo a seguir.\n",
        "#### **Dica:** número de semanas completas\n",
        "#### Entrada 1:\n",
        "```\n",
        "{\n",
        "    'Event': ['Event A', 'Event B', 'Event C'],\n",
        "    'Start Date': ['2023-01-05', '2023-02-15', '2023-07-20'],\n",
        "    'End Date': ['2023-02-10', '2023-03-28', '2023-08-01']\n",
        "}\n",
        "```\n",
        "\n",
        "\n",
        "#### Saída: um dataframe igual a este\n",
        "\n",
        "|    | Event   | Start Date          | End Date            |   Difference |   Full Weeks Difference |\n",
        "|---:|:--------|:--------------------|:--------------------|-------------:|------------------------:|\n",
        "|  0 | Event A | 2023-01-05 00:00:00 | 2023-02-10 00:00:00 |           36 |                       5 |\n",
        "|  1 | Event B | 2023-02-15 00:00:00 | 2023-03-28 00:00:00 |           41 |                       5 |\n",
        "|  2 | Event C | 2023-07-20 00:00:00 | 2023-08-01 00:00:00 |           12 |                       1 |\n",
        "\n"
      ]
    },
    {
      "cell_type": "code",
      "execution_count": 38,
      "metadata": {
        "id": "olo5R2k_J4jI"
      },
      "outputs": [],
      "source": [
        "d8_8_1 = {\n",
        "    'Event': ['Event A', 'Event B', 'Event C'],\n",
        "    'Start Date': ['2023-01-05', '2023-02-15', '2023-07-20'],\n",
        "    'End Date': ['2023-02-10', '2023-03-28', '2023-08-01']\n",
        "}"
      ]
    },
    {
      "cell_type": "code",
      "execution_count": 37,
      "metadata": {
        "id": "PseMbwuxCU09",
        "nbgrader": {
          "grade": false,
          "grade_id": "cell-c705ab9d11473b9f9",
          "locked": false,
          "schema_version": 3,
          "solution": true,
          "task": false
        }
      },
      "outputs": [],
      "source": [
        "prompt88 = \"\"\"Crie uma função em Python que use a biblioteca pandas para calcular a diferença em dias e semanas completas entre duas colunas de datas em um DataFrame. A função deve:\n",
        "Receber um dicionário com três listas: 'Event', 'Start Date' e 'End Date', onde as datas estão no formato string.\n",
        "Converter as colunas de datas para o tipo datetime.\n",
        "Calcular a diferença em dias entre as datas.\n",
        "Calcular a diferença em semanas completas entre as datas.\n",
        "Retornar um DataFrame com as colunas 'Event', 'Start Date', 'End Date', 'Difference' (em dias) e 'Full Weeks Difference'.\"\"\""
      ]
    },
    {
      "cell_type": "code",
      "execution_count": 39,
      "metadata": {
        "id": "rN3j4g7TCU1C",
        "colab": {
          "base_uri": "https://localhost:8080/"
        },
        "outputId": "92a4e4f9-2427-4392-b72e-3c519bfc7d99"
      },
      "outputs": [
        {
          "output_type": "stream",
          "name": "stdout",
          "text": [
            "Codigo gerado: \n",
            "def calculate_date_differences(data):\n",
            "    df = pd.DataFrame(data)\n",
            "    df['Start Date'] = pd.to_datetime(df['Start Date'])\n",
            "    df['End Date'] = pd.to_datetime(df['End Date'])\n",
            "    \n",
            "    df['Difference'] = (df['End Date'] - df['Start Date']).dt.days\n",
            "    df['Full Weeks Difference'] = df['Difference'] // 7\n",
            "    \n",
            "    return df[['Event', 'Start Date', 'End Date', 'Difference', 'Full Weeks Difference']]\n",
            "\n",
            "✅ Passed the Test Case!\n",
            "  Expected: {'data': {'aggregation_checks': {'sum': {'Difference': 89.0, 'Full Weeks Difference': 11.0}, 'total_rows': {'max': 3, 'min': 3}}, 'columns': ['Event', 'Start Date', 'End Date', 'Difference', 'Full Weeks Difference'], 'dtypes': {'Difference': 'int64', 'End Date': 'datetime64[ns]', 'Event': 'object', 'Full Weeks Difference': 'int64', 'Start Date': 'datetime64[ns]'}, 'sample_rows': [{'expected_values': {'Full Weeks Difference': 5}, 'filter': {'Event': 'Event A'}}]}, 'type': 'dataframe', 'validation_rules': {'round_decimals': 1, 'row_match_threshold': 0.01, 'tolerance': 3}}\n",
            "  Delivered: {'aggregation_summary': {'sums': {'Difference': 89.0, 'Full Weeks Difference': 11.0}, 'total_rows': {'max': 3, 'min': 3}}, 'column_analysis': {'expected_columns': ['Event', 'Start Date', 'End Date', 'Difference', 'Full Weeks Difference'], 'missing_columns': [], 'possible_matches': {}, 'provided_columns': ['Event', 'Start Date', 'End Date', 'Difference', 'Full Weeks Difference'], 'unexpected_columns': []}, 'verified_samples': [{'expected_values': {'Full Weeks Difference': 5}, 'filter': {'Event': 'Event A'}}]}\n"
          ]
        }
      ],
      "source": [
        "validate(prompt88, \"A8-E8\")"
      ]
    },
    {
      "cell_type": "code",
      "execution_count": null,
      "metadata": {
        "id": "IoFYhlp1Jnwf"
      },
      "outputs": [],
      "source": []
    },
    {
      "cell_type": "markdown",
      "metadata": {
        "id": "9cTqrAw0IXaY"
      },
      "source": [
        "### Exercício de Reflexão (Facultativo)\n",
        "#### Você aprendeu alguma coisa que pode ser reaproveitado em outros problemas?\n",
        "#### Como você pode melhorar seu processo de elaboração de requisitos / prompts?\n",
        "#### Você notou ambiguidade na sua especificação inicial?"
      ]
    },
    {
      "cell_type": "code",
      "execution_count": 55,
      "metadata": {
        "id": "Y9yjEmHV2nKi"
      },
      "outputs": [],
      "source": [
        "resposta=\"\"\"Minha jornada na elaboração de prompts me ensinou a importância crucial da manipulação eficiente de dados, especialmente datas e strings, através de bibliotecas como `pandas` e `re`.  Desenvolvi uma apreciação maior pela modularização do código em funções reutilizáveis, percebendo como essa prática, combinada com o uso estratégico de expressões regulares, pode otimizar o fluxo de trabalho.  A manipulação de DataFrames, desde a reordenação de colunas até a conversão de tipos de dados, solidificou minha compreensão sobre a importância da organização e tratamento de dados na análise.  A validação de dados em cada etapa, como a verificação de tipos ou a presença de colunas essenciais, se mostrou indispensável para garantir a confiabilidade do código.  A flexibilidade na leitura e interpretação de dados, adaptando o código para diferentes estruturas de arquivos, como os diversos formatos de arquivos CSV, ampliou minha capacidade de lidar com desafios reais.  A prática constante com tratamento de erros, como exceções na leitura de arquivos ou acessos a APIs, me ensinou a construir aplicações mais resilientes, capazes de lidar com imprevistos.\n",
        "A busca pela clareza e especificidade nos prompts se tornou um foco constante.  Percebi que descrever detalhadamente os formatos de entrada e saída, ilustrando com exemplos concretos e abordando os casos de borda, elimina ambiguidades e facilita a interpretação.  A validação dos requisitos com perguntas esclarecedoras antes da implementação garante que todas as nuances sejam consideradas.  A divisão do problema em etapas menores, como um *workflow* bem definido, ajuda a garantir que nenhum requisito seja negligenciado.  A inclusão de exemplos de testes com dados reais e casos de uso permite verificar se o código atende às expectativas.  A iteração contínua e a revisão dos prompts, com foco na estrutura e organização, facilitam a identificação de possíveis problemas.  Incluir etapas de validação de dados, como a conversão de tipos antes da execução, e fornecer múltiplos exemplos de uso, cobrindo casos comuns e extremos, também são práticas valiosas.  Documentar cada passo do código, como um guia para o processo de desenvolvimento, aumenta a transparência e facilita a manutenção.  Especificar o formato esperado da saída e antecipar possíveis problemas, como tratamento de valores nulos ou inválidos, ajuda a evitar erros.  A revisão dinâmica dos prompts durante a implementação, com base em dúvidas ou problemas que surgem, torna o processo mais adaptativo e robusto.  Definir critérios de aceitação desde o início do projeto, especificar como o código deve se comportar em cenários específicos e incorporar *feedback* contínuo ajudam a identificar lacunas nos requisitos.  A criação de protótipos rápidos para validar ideias antes de implementar a solução final, como um estudo de viabilidade, economiza tempo e recursos.  Ainda, percebi que a escolha da *linguagem* do prompt, o nível de formalidade e a maneira como apresento o desafio influenciam diretamente na qualidade da resposta do modelo.  Experimentar diferentes abordagens me permite otimizar a comunicação e obter resultados mais precisos.\n",
        "As ambiguidades mais comuns nas especificações iniciais residem na falta de clareza sobre os formatos de dados esperados, como datas ou números de telefone, e sobre o tratamento de casos de borda, como strings vazias ou entradas inválidas.  A ausência de detalhes sobre a localização dos dados, como em APIs ou arquivos específicos, e sobre o tratamento de erros também é frequente.  A falta de critérios de validação e exemplos detalhados nos prompts contribui para as ambiguidades.  A falta de clareza sobre o tipo de dado esperado para cada coluna, a estrutura do DataFrame e as expectativas em relação aos resultados também pode levar a erros.  Especificar critérios de validação, fornecer exemplos detalhados, descrever o formato de retorno esperado e assegurar o nível de detalhamento para evitar múltiplas interpretações são medidas que podem evitar ambiguidades.  Além disso, percebi que algumas ambiguidades surgem da minha própria falta de clareza sobre *qual* problema estou tentando resolver.  Antes de formular o prompt, agora dedico mais tempo para definir o objetivo com precisão, o que me ajuda a identificar as informações cruciais que precisam ser incluídas na especificação.\n",
        "\"\"\""
      ]
    },
    {
      "cell_type": "code",
      "execution_count": 53,
      "metadata": {
        "id": "yLXjtjQaK6V1",
        "colab": {
          "base_uri": "https://localhost:8080/"
        },
        "outputId": "8e9a5ed0-b753-46af-fe0a-764457feef76"
      },
      "outputs": [
        {
          "output_type": "stream",
          "name": "stdout",
          "text": [
            "Chatgpt graded your answer as: False\n",
            "Chatgpt feedback was: Although the reflection demonstrates a thoughtful understanding of the material, it lacks originality and substantial differentiation from the student's previous reflections. The student repeatedly mentions similar concepts like data manipulation, modularization, and the importance of clear specifications and validation, which have been addressed in past reflections. To meet quality standards, the student should aim to present new insights or approaches to these concepts.\n"
          ]
        }
      ],
      "source": [
        "validate(resposta, \"A8-R1\")"
      ]
    }
  ],
  "metadata": {
    "celltoolbar": "Create Assignment",
    "colab": {
      "provenance": [],
      "include_colab_link": true
    },
    "kernelspec": {
      "display_name": "Python 3",
      "language": "python",
      "name": "python3"
    },
    "language_info": {
      "codemirror_mode": {
        "name": "ipython",
        "version": 3
      },
      "file_extension": ".py",
      "mimetype": "text/x-python",
      "name": "python",
      "nbconvert_exporter": "python",
      "pygments_lexer": "ipython3",
      "version": "3.8.3"
    },
    "name": "_merged",
    "varInspector": {
      "cols": {
        "lenName": 16,
        "lenType": 16,
        "lenVar": 40
      },
      "kernels_config": {
        "python": {
          "delete_cmd_postfix": "",
          "delete_cmd_prefix": "del ",
          "library": "var_list.py",
          "varRefreshCmd": "print(var_dic_list())"
        },
        "r": {
          "delete_cmd_postfix": ") ",
          "delete_cmd_prefix": "rm(",
          "library": "var_list.r",
          "varRefreshCmd": "cat(var_dic_list()) "
        }
      },
      "types_to_exclude": [
        "module",
        "function",
        "builtin_function_or_method",
        "instance",
        "_Feature"
      ],
      "window_display": false
    }
  },
  "nbformat": 4,
  "nbformat_minor": 0
}